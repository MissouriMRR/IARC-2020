{
 "nbformat": 4,
 "nbformat_minor": 2,
 "metadata": {
  "language_info": {
   "name": "python",
   "codemirror_mode": {
    "name": "ipython",
    "version": 3
   },
   "version": "3.6.8"
  },
  "orig_nbformat": 2,
  "file_extension": ".py",
  "mimetype": "text/x-python",
  "name": "python",
  "npconvert_exporter": "python",
  "pygments_lexer": "ipython3",
  "version": 3
 },
 "cells": [
  {
   "cell_type": "markdown",
   "metadata": {},
   "outputs": [],
   "source": [
    "## How to find the pixels that are the module\n",
    "\n",
    "Remember to reset kernel and clear output before commiting!!\n",
    "\n",
    "variables are preserved across cells"
   ]
  },
  {
   "cell_type": "code",
   "metadata": {},
   "outputs": [],
   "source": [
    "import os\n",
    "\n",
    "import numpy as np\n",
    "\n",
    "import matplotlib.image as mpimg\n",
    "import matplotlib.pyplot as plt\n",
    "\n",
    "import cv2\n",
    "import sklearn\n",
    "import sklearn.cluster"
   ]
  },
  {
   "cell_type": "code",
   "metadata": {},
   "outputs": [],
   "source": [
    "## Check out dataset\n",
    "print(os.getcwd())\n",
    "os.listdir(os.path.join('vision', 'vision_images', 'module', '640x480'))"
   ]
  },
  {
   "cell_type": "code",
   "metadata": {},
   "outputs": [],
   "source": [
    "def read_realsense(base_path):\n",
    "    \"\"\"\n",
    "    Read the color and depth information of realsense image.\n",
    "\n",
    "    Parameters\n",
    "    ----------\n",
    "    base_path: str\n",
    "        The whole image path except colorImage.jpg/depthImage.jpg\n",
    "        ie \"vision_images/module/2019-11-16_15.14.56.478240-\"\n",
    "\n",
    "    Returns\n",
    "    -------\n",
    "    Returns a color and depth image.\n",
    "    \"\"\"\n",
    "    color_filename = base_path + 'colorImage.jpg'\n",
    "\n",
    "    if not os.path.exists(color_filename):\n",
    "        print(f\"File not found: {color_filename}\")\n",
    "        return None, None\n",
    "\n",
    "    color_image = cv2.imread(color_filename)\n",
    "    color_image = cv2.cvtColor(color_image, cv2.COLOR_BGR2RGB)\n",
    "\n",
    "    depth_image = cv2.imread(base_path + 'depthImage.jpg')\n",
    "\n",
    "    return color_image, depth_image"
   ]
  },
  {
   "cell_type": "code",
   "metadata": {},
   "outputs": [],
   "source": [
    "## Pick out few good looking images\n",
    "filenames = [\n",
    "    os.path.join('chair', '2019-11-16_15.14.56.478240-'),\n",
    "    os.path.join('grey_background', '2019-11-16_15.06.27.165409-'),\n",
    "    os.path.join('white_background', '2019-11-16_15.01.19.782098-'),\n",
    "    os.path.join('wood', '2019-11-16_15.11.12.153457-'),\n",
    "]\n",
    "images = [read_realsense(os.path.join('vision', 'vision_images', 'module', '640x480', filename)) for filename in filenames]\n",
    "\n",
    "for color, depth in images:\n",
    "    if color is None or depth is None:\n",
    "        print('oof')\n",
    "        continue\n",
    "\n",
    "    plt.imshow(color)\n",
    "    plt.show()\n",
    "    plt.imshow(depth)\n",
    "    plt.show()"
   ]
  },
  {
   "cell_type": "markdown",
   "metadata": {},
   "outputs": [],
   "source": [
    "## Ideas to test/think about\n",
    "Other clustering algorithms: https://scikit-learn.org/stable/modules/clustering.html\n",
    "\n",
    "X, Y data into clustering(low info?)\n",
    "\n",
    "Depth data into clustering(noisey)\n",
    "\n",
    "Hue, Saturation data into clustering\n",
    "\n",
    "Crop images w/ camerons code\n",
    "\n",
    "Heavy blur/preprocessing"
   ]
  },
  {
   "cell_type": "code",
   "metadata": {},
   "outputs": [],
   "source": [
    "## Control\n",
    "for color, _ in images:\n",
    "    ## String out/tabularize image\n",
    "    tabularized = color.reshape((-1, 3))\n",
    "\n",
    "    # Optionally add another column(s) here (ie x, y, ...)\n",
    "    # tabularized = np.hstack((tabularized, value))\n",
    "\n",
    "    ## Perform clustering\n",
    "    kmeans = sklearn.cluster.KMeans(n_clusters=3, random_state=0).fit(tabularized)\n",
    "\n",
    "    ## Generate interpretable output\n",
    "    #print(kmeans.labels_)\n",
    "    #print(kmeans.cluster_centers_)\n",
    "\n",
    "    centers = np.int_(kmeans.cluster_centers_)\n",
    "    tabular_output = centers[kmeans.labels_]\n",
    "    img_output = tabular_output.reshape(color.shape)\n",
    "\n",
    "    plt.imshow(img_output)\n",
    "    plt.show()"
   ]
  },
  {
   "cell_type": "code",
   "metadata": {},
   "outputs": [],
   "source": []
  }
 ]
}